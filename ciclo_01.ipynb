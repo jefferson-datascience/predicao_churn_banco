{
 "cells": [
  {
   "cell_type": "markdown",
   "id": "6c6b8494-a16c-4d4d-9176-8009cd07faa9",
   "metadata": {},
   "source": [
    "# Compreensão do Modelo e Problema de Negócio"
   ]
  },
  {
   "cell_type": "markdown",
   "id": "beff9ea1-f845-4e60-8257-1657ea6d8e6a",
   "metadata": {},
   "source": [
    "**Compreensão do Negócio**"
   ]
  },
  {
   "cell_type": "markdown",
   "id": "8a336422-0176-4ef0-8861-d1834638ae92",
   "metadata": {},
   "source": [
    "O Banco Elegance, renomado por seus serviços premium e exclusivos, está enfrentando um desafio preocupante com o aumento no número de clientes que desejam encerrar suas contas bancárias. O Gerente Geral, Sr. Fernando, tem liderado o banco com grande sucesso, mantendo altos padrões de atendimento ao cliente. Entretanto, ele está profundamente perturbado ao perceber que um número crescente de clientes de alto valor está solicitando o encerramento de suas contas no Banco Elegance.\r\n",
    "\r\n",
    "A dor de Sr. Fernando é ainda mais acentuada pelo fato de que esses clientes de alto valor têm sido fundamentais para o banco, contribuindo significativamente para sua reputação e receita. O Banco Elegance sempre se destacou por fornecer serviços de classe mundial e soluções financeiras personalizadas para seus clientes mais valiosos. Sr. Fernando acredita que, se eles pudessem prever antecipadamente quais desses clientes estão considerando encerrar suas contas, poderiam tomar medidas proativas para reter esses clientes valioso cancárias.\n"
   ]
  },
  {
   "cell_type": "markdown",
   "id": "ab52d069-6f4e-4220-be7a-2ffc91489d2c",
   "metadata": {},
   "source": [
    "**Problema de Negócio**"
   ]
  },
  {
   "cell_type": "markdown",
   "id": "200783d0-d89e-4657-b18a-e204c7dfd7fd",
   "metadata": {},
   "source": [
    "\n",
    "O Banco Elegance deseja desenvolver um sistema de previsão que identifique com antecedência os clientes propensos a encerrar suas contas bancárias. Isso permitirá que o banco adote medidas proativas para reter esses clientes, oferecendo soluções personalizadas, benefícios adicionais e um atendimento excepcional. O objetivo é evitar que os clientes de alto valor deixem o banco, mantendo sua lealdade e protegendo a reputação do Banco Elegance no setor financeiro.\n",
    "\n",
    "O conjunto de dados fornecido inclui informações detalhadas sobre idade, renda, estado civil, histórico de transações, produtos bancários adicionais utilizados e outros indicadores relevantes. O desafio é treinar um modelo de aprendizado de máquina que possa prever quais clientes estão mais propensos a encerrar suas contas no futuro, permitindo que o banco tome ações preventivas e ofereça um serviço excepcional de retenção de clientes."
   ]
  },
  {
   "cell_type": "code",
   "execution_count": null,
   "id": "b3a0150e-13f0-4a02-98d6-ef4eece12769",
   "metadata": {},
   "outputs": [],
   "source": []
  },
  {
   "cell_type": "code",
   "execution_count": null,
   "id": "aa3fc6dd-7247-4ddb-9afd-9a44410bad05",
   "metadata": {},
   "outputs": [],
   "source": []
  },
  {
   "cell_type": "code",
   "execution_count": null,
   "id": "ddc99b75-536b-47a2-a2b0-1e164887ec98",
   "metadata": {},
   "outputs": [],
   "source": []
  },
  {
   "cell_type": "code",
   "execution_count": null,
   "id": "fe6fa89e-24a6-4831-ae19-32fcedac9fc9",
   "metadata": {},
   "outputs": [],
   "source": []
  },
  {
   "cell_type": "code",
   "execution_count": null,
   "id": "636457fc-2f6e-4036-8cc3-5c2d327de81d",
   "metadata": {},
   "outputs": [],
   "source": []
  },
  {
   "cell_type": "code",
   "execution_count": null,
   "id": "91566724-1608-4510-aed4-1be251492a51",
   "metadata": {},
   "outputs": [],
   "source": []
  },
  {
   "cell_type": "code",
   "execution_count": null,
   "id": "a06885e3-5793-4b26-91de-9d2a642a561f",
   "metadata": {},
   "outputs": [],
   "source": []
  },
  {
   "cell_type": "code",
   "execution_count": null,
   "id": "bbf1482d-41f2-4a62-8f56-ca83bf597dc9",
   "metadata": {},
   "outputs": [],
   "source": []
  },
  {
   "cell_type": "code",
   "execution_count": null,
   "id": "efe53e15-7a5d-46ff-adf4-8285125fca04",
   "metadata": {},
   "outputs": [],
   "source": []
  },
  {
   "cell_type": "code",
   "execution_count": null,
   "id": "c88280c6-e08f-4079-bc0e-1d345b950bc6",
   "metadata": {},
   "outputs": [],
   "source": []
  },
  {
   "cell_type": "code",
   "execution_count": null,
   "id": "c1b517d9-2bb3-44bb-8fc7-595dc611735a",
   "metadata": {},
   "outputs": [],
   "source": []
  }
 ],
 "metadata": {
  "kernelspec": {
   "display_name": "Python 3 (ipykernel)",
   "language": "python",
   "name": "python3"
  },
  "language_info": {
   "codemirror_mode": {
    "name": "ipython",
    "version": 3
   },
   "file_extension": ".py",
   "mimetype": "text/x-python",
   "name": "python",
   "nbconvert_exporter": "python",
   "pygments_lexer": "ipython3",
   "version": "3.8.0"
  },
  "widgets": {
   "application/vnd.jupyter.widget-state+json": {
    "state": {},
    "version_major": 2,
    "version_minor": 0
   }
  }
 },
 "nbformat": 4,
 "nbformat_minor": 5
}
